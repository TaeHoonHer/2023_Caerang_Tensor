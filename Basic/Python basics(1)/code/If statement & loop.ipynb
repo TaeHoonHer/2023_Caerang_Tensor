{
 "cells": [
  {
   "cell_type": "markdown",
   "id": "aee434b0",
   "metadata": {},
   "source": [
    "### If Statement\n",
    "- Used to control the flow of a program\n",
    "\n",
    "### Loop\n",
    "- A statement that allows the same task to be performed multiple times\n",
    "\n",
    "- Keyword\n",
    "    - if\n",
    "    - else\n",
    "    - elif\n",
    "    - for\n",
    "    - while"
   ]
  },
  {
   "cell_type": "code",
   "execution_count": 1,
   "id": "227a1f04",
   "metadata": {},
   "outputs": [
    {
     "name": "stdout",
     "output_type": "stream",
     "text": [
      "You are an adult\n"
     ]
    }
   ],
   "source": [
    "# if\n",
    "age = 20\n",
    "\n",
    "if age > 19:\n",
    "    print(\"You are an adult\")"
   ]
  },
  {
   "cell_type": "code",
   "execution_count": 3,
   "id": "5c6c2db3",
   "metadata": {},
   "outputs": [
    {
     "name": "stdout",
     "output_type": "stream",
     "text": [
      "You are a minor\n"
     ]
    }
   ],
   "source": [
    "# else\n",
    "age = 18\n",
    "\n",
    "if age > 19:\n",
    "    print(\"You are an adult\")\n",
    "else:\n",
    "    print(\"You are a minor\")"
   ]
  },
  {
   "cell_type": "code",
   "execution_count": 4,
   "id": "a33eeb07",
   "metadata": {},
   "outputs": [
    {
     "name": "stdout",
     "output_type": "stream",
     "text": [
      "Grade: C\n"
     ]
    }
   ],
   "source": [
    "# elif\n",
    "score = 75\n",
    "\n",
    "if score >= 90:\n",
    "    print(\"Grade: A\")\n",
    "elif score >= 80:\n",
    "    print(\"Grade: B\")\n",
    "elif score >= 70:\n",
    "    print(\"Grade: C\")\n",
    "elif score >= 60:\n",
    "    print(\"Grade: D\")\n",
    "else:\n",
    "    print(\"Grade: F\")"
   ]
  },
  {
   "cell_type": "markdown",
   "id": "5d650153",
   "metadata": {},
   "source": [
    "## Loop"
   ]
  },
  {
   "cell_type": "code",
   "execution_count": 5,
   "id": "00285d55",
   "metadata": {},
   "outputs": [
    {
     "name": "stdout",
     "output_type": "stream",
     "text": [
      "I like apple\n",
      "I like banana\n",
      "I like cherry\n"
     ]
    }
   ],
   "source": [
    "# for\n",
    "fruits = [\"apple\", \"banana\", \"cherry\"]\n",
    "\n",
    "for fruit in fruits:\n",
    "    print(\"I like\", fruit)"
   ]
  },
  {
   "cell_type": "code",
   "execution_count": 6,
   "id": "84b980ec",
   "metadata": {},
   "outputs": [
    {
     "name": "stdout",
     "output_type": "stream",
     "text": [
      "0\n",
      "1\n",
      "2\n",
      "3\n",
      "4\n"
     ]
    }
   ],
   "source": [
    "# range\n",
    "for i in range(5):\n",
    "    print(i)"
   ]
  },
  {
   "cell_type": "code",
   "execution_count": 7,
   "id": "89f43e8e",
   "metadata": {},
   "outputs": [
    {
     "name": "stdout",
     "output_type": "stream",
     "text": [
      "0\n",
      "1\n",
      "2\n",
      "3\n",
      "4\n"
     ]
    }
   ],
   "source": [
    "# while\n",
    "count = 0\n",
    "\n",
    "while count < 5:\n",
    "    print(count)\n",
    "    count += 1"
   ]
  },
  {
   "cell_type": "code",
   "execution_count": 8,
   "id": "0aad5ebb",
   "metadata": {},
   "outputs": [
    {
     "name": "stdout",
     "output_type": "stream",
     "text": [
      "0\n",
      "1\n",
      "2\n",
      "3\n",
      "4\n"
     ]
    }
   ],
   "source": [
    "# break\n",
    "for i in range(10):\n",
    "    if i == 5:\n",
    "        break\n",
    "    print(i)"
   ]
  },
  {
   "cell_type": "code",
   "execution_count": 9,
   "id": "a61d278c",
   "metadata": {},
   "outputs": [
    {
     "name": "stdout",
     "output_type": "stream",
     "text": [
      "1\n",
      "3\n",
      "5\n",
      "7\n",
      "9\n"
     ]
    }
   ],
   "source": [
    "# continue\n",
    "for i in range(10):\n",
    "    if i % 2 == 0:\n",
    "        continue\n",
    "    print(i)"
   ]
  },
  {
   "cell_type": "code",
   "execution_count": 10,
   "id": "2c621261",
   "metadata": {},
   "outputs": [
    {
     "name": "stdout",
     "output_type": "stream",
     "text": [
      "(0, 0)\n",
      "(0, 1)\n",
      "(0, 2)\n",
      "(1, 0)\n",
      "(1, 1)\n",
      "(1, 2)\n",
      "(2, 0)\n",
      "(2, 1)\n",
      "(2, 2)\n"
     ]
    }
   ],
   "source": [
    "# nested loop\n",
    "for i in range(3):\n",
    "    for j in range(3):\n",
    "        print(f\"({i}, {j})\")\n",
    "        # print(\"(\", i, \", \", j, \")\", sep=\"\") \n",
    "        # before formatting "
   ]
  },
  {
   "cell_type": "code",
   "execution_count": 13,
   "id": "e921db82",
   "metadata": {},
   "outputs": [
    {
     "name": "stdout",
     "output_type": "stream",
     "text": [
      "[1, 4, 9, 16, 25, 36, 49, 64, 81, 100]\n"
     ]
    }
   ],
   "source": [
    "# list comprehension\n",
    "squares = [x ** 2 for x in range(1, 11)]\n",
    "print(squares)\n",
    "\n",
    "\n",
    "#squares = []\n",
    "#for x in range(1, 11):\n",
    "#    squares.append(x ** 2)\n",
    "#print(squares)"
   ]
  },
  {
   "cell_type": "markdown",
   "id": "be6ddfc9",
   "metadata": {},
   "source": [
    "대괄호 안에 표현식과 for 루프를 적어주는 방식으로 리스트를 만든다\n",
    "\n",
    "위 코드에서 x ** 2가 표현식이 되고, for x in range(1, 11)이 x 값을 1부터 10까지 반복하도록 지정하는 부분"
   ]
  },
  {
   "cell_type": "code",
   "execution_count": null,
   "id": "0391c233",
   "metadata": {},
   "outputs": [],
   "source": []
  }
 ],
 "metadata": {
  "kernelspec": {
   "display_name": "Python 3 (ipykernel)",
   "language": "python",
   "name": "python3"
  },
  "language_info": {
   "codemirror_mode": {
    "name": "ipython",
    "version": 3
   },
   "file_extension": ".py",
   "mimetype": "text/x-python",
   "name": "python",
   "nbconvert_exporter": "python",
   "pygments_lexer": "ipython3",
   "version": "3.10.2"
  }
 },
 "nbformat": 4,
 "nbformat_minor": 5
}
