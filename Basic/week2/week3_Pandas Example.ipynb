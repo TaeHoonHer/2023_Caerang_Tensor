{
 "cells": [
  {
   "attachments": {},
   "cell_type": "markdown",
   "metadata": {},
   "source": [
    "## Pandas 기초"
   ]
  },
  {
   "cell_type": "code",
   "execution_count": 2,
   "metadata": {},
   "outputs": [
    {
     "name": "stdout",
     "output_type": "stream",
     "text": [
      "1.1.5\n"
     ]
    }
   ],
   "source": [
    "import pandas as pd\n",
    "\n",
    "print(pd.__version__)"
   ]
  },
  {
   "cell_type": "code",
   "execution_count": 3,
   "metadata": {},
   "outputs": [
    {
     "name": "stdout",
     "output_type": "stream",
     "text": [
      "A    1\n",
      "B    2\n",
      "C    3\n",
      "D    4\n",
      "E    5\n",
      "dtype: int64\n"
     ]
    }
   ],
   "source": [
    "# Series 생성\n",
    "s = pd.Series([1, 2, 3, 4, 5], index=['A', 'B', 'C', 'D', 'E'])\n",
    "print(s)"
   ]
  },
  {
   "cell_type": "code",
   "execution_count": 4,
   "metadata": {},
   "outputs": [
    {
     "name": "stdout",
     "output_type": "stream",
     "text": [
      "    Name  Age  Country\n",
      "0   John   28      USA\n",
      "1   Anna   24  Germany\n",
      "2  Peter   32    Korea\n"
     ]
    }
   ],
   "source": [
    "# DataFrame 생성\n",
    "data = {'Name': ['John', 'Anna', 'Peter'],\n",
    "        'Age': [28, 24, 32],\n",
    "        'Country': ['USA', 'Germany', 'Korea']}\n",
    "df = pd.DataFrame(data)\n",
    "print(df)"
   ]
  },
  {
   "cell_type": "code",
   "execution_count": 5,
   "metadata": {},
   "outputs": [
    {
     "name": "stdout",
     "output_type": "stream",
     "text": [
      "    Name  Age  Country       Job\n",
      "0   John   28      USA   Teacher\n",
      "1   Anna   24  Germany   Student\n",
      "2  Peter   32    Korea  Engineer\n",
      "    Name  Age  Country       Job\n",
      "0   John   28      USA   Teacher\n",
      "1   Anna   24  Germany   Student\n",
      "2  Peter   32    Korea  Engineer\n",
      "3    Tom   26       UK    Artist\n"
     ]
    }
   ],
   "source": [
    "# 새로운 열 추가\n",
    "df['Job'] = ['Teacher', 'Student', 'Engineer']\n",
    "print(df)\n",
    "\n",
    "# 새로운 행 추가\n",
    "new_row = {'Name': 'Tom', 'Age': 26, 'Country': 'UK', 'Job': 'Artist'}\n",
    "df = df.append(new_row, ignore_index=True)\n",
    "print(df)"
   ]
  },
  {
   "cell_type": "code",
   "execution_count": 6,
   "metadata": {},
   "outputs": [
    {
     "name": "stdout",
     "output_type": "stream",
     "text": [
      "0     John\n",
      "1     Anna\n",
      "2    Peter\n",
      "3      Tom\n",
      "Name: Name, dtype: object\n",
      "    Name  Age  Country       Job\n",
      "0   John   28      USA   Teacher\n",
      "1   Anna   24  Germany   Student\n",
      "2  Peter   32    Korea  Engineer\n"
     ]
    }
   ],
   "source": [
    "# 'Name' 열 선택\n",
    "print(df['Name'])\n",
    "\n",
    "# 첫 3행 선택\n",
    "print(df[:3])"
   ]
  },
  {
   "cell_type": "code",
   "execution_count": 7,
   "metadata": {},
   "outputs": [
    {
     "name": "stdout",
     "output_type": "stream",
     "text": [
      "    Name  Age Country       Job\n",
      "2  Peter   32   Korea  Engineer\n"
     ]
    }
   ],
   "source": [
    "# 나이가 30 이상인 행 필터링\n",
    "print(df[df['Age'] >= 30])"
   ]
  },
  {
   "cell_type": "code",
   "execution_count": 8,
   "metadata": {},
   "outputs": [
    {
     "name": "stdout",
     "output_type": "stream",
     "text": [
      "    Name  Age  Country       Job\n",
      "1   Anna   24  Germany   Student\n",
      "3    Tom   26       UK    Artist\n",
      "0   John   28      USA   Teacher\n",
      "2  Peter   32    Korea  Engineer\n",
      "    Name  Age  Country       Job\n",
      "2  Peter   32    Korea  Engineer\n",
      "0   John   28      USA   Teacher\n",
      "3    Tom   26       UK    Artist\n",
      "1   Anna   24  Germany   Student\n"
     ]
    }
   ],
   "source": [
    "# 'Age' 열 기준 오름차순 정렬\n",
    "print(df.sort_values('Age'))\n",
    "\n",
    "# 'Age' 열 기준 내림차순 정렬\n",
    "print(df.sort_values('Age', ascending=False))"
   ]
  }
 ],
 "metadata": {
  "kernelspec": {
   "display_name": "Python 3",
   "language": "python",
   "name": "python3"
  },
  "language_info": {
   "codemirror_mode": {
    "name": "ipython",
    "version": 3
   },
   "file_extension": ".py",
   "mimetype": "text/x-python",
   "name": "python",
   "nbconvert_exporter": "python",
   "pygments_lexer": "ipython3",
   "version": "3.6.9"
  },
  "orig_nbformat": 4
 },
 "nbformat": 4,
 "nbformat_minor": 2
}
