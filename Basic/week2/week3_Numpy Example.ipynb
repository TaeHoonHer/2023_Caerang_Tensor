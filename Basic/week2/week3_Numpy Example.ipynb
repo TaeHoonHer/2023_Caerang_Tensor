{
 "cells": [
  {
   "attachments": {},
   "cell_type": "markdown",
   "metadata": {},
   "source": [
    "### 씨애랑 3주차 강의"
   ]
  },
  {
   "cell_type": "code",
   "execution_count": null,
   "metadata": {},
   "outputs": [],
   "source": [
    "pip install numpy"
   ]
  },
  {
   "attachments": {},
   "cell_type": "markdown",
   "metadata": {},
   "source": [
    "Numpy 의 핵심 기능 중 하나는 n-차원 배열인 ndarry 객체"
   ]
  },
  {
   "cell_type": "code",
   "execution_count": 2,
   "metadata": {},
   "outputs": [],
   "source": [
    "import numpy as np"
   ]
  },
  {
   "cell_type": "code",
   "execution_count": 3,
   "metadata": {},
   "outputs": [
    {
     "name": "stdout",
     "output_type": "stream",
     "text": [
      "생성한 배열 :  [1 2 3 4 5]\n"
     ]
    }
   ],
   "source": [
    "arr = np.array([1, 2, 3, 4, 5])\n",
    "print(\"생성한 배열 : \", arr)"
   ]
  },
  {
   "cell_type": "code",
   "execution_count": 4,
   "metadata": {},
   "outputs": [
    {
     "name": "stdout",
     "output_type": "stream",
     "text": [
      "배열의 차원:  1\n",
      "배열의 모양:  (5,)\n",
      "배열의 크기:  5\n",
      "배열의 데이터 타입:  int64\n"
     ]
    }
   ],
   "source": [
    "print(\"배열의 차원: \", arr.ndim)\n",
    "print(\"배열의 모양: \", arr.shape)\n",
    "print(\"배열의 크기: \", arr.size)\n",
    "print(\"배열의 데이터 타입: \", arr.dtype)"
   ]
  },
  {
   "attachments": {},
   "cell_type": "markdown",
   "metadata": {},
   "source": [
    "### Numpy 연산 및 함수"
   ]
  },
  {
   "cell_type": "code",
   "execution_count": 5,
   "metadata": {},
   "outputs": [
    {
     "name": "stdout",
     "output_type": "stream",
     "text": [
      "덧셈:  [5 7 9]\n",
      "뺄셈:  [-3 -3 -3]\n",
      "곱셈:  [ 4 10 18]\n",
      "나눗셈:  [0.25 0.4  0.5 ]\n",
      "제곱근:  [1.         1.41421356 1.73205081]\n",
      "로그:  [0.         0.69314718 1.09861229]\n"
     ]
    }
   ],
   "source": [
    "# Numpy 배열 생성\n",
    "arr1 = np.array([1, 2, 3])\n",
    "arr2 = np.array([4, 5, 6])\n",
    "\n",
    "# 기본적인 사칙연산\n",
    "print(\"덧셈: \", np.add(arr1, arr2))\n",
    "print(\"뺄셈: \", np.subtract(arr1, arr2))\n",
    "print(\"곱셈: \", np.multiply(arr1, arr2))\n",
    "print(\"나눗셈: \", np.divide(arr1, arr2))\n",
    "\n",
    "print(\"제곱근: \", np.sqrt(arr1))\n",
    "print(\"로그: \", np.log(arr1))"
   ]
  },
  {
   "cell_type": "code",
   "execution_count": 6,
   "metadata": {},
   "outputs": [
    {
     "name": "stdout",
     "output_type": "stream",
     "text": [
      "합계:  6\n",
      "최소값:  1\n",
      "최대값:  3\n",
      "평균값:  2.0\n"
     ]
    }
   ],
   "source": [
    "print(\"합계: \", np.sum(arr1))\n",
    "print(\"최소값: \", np.min(arr1))\n",
    "print(\"최대값: \", np.max(arr1))\n",
    "print(\"평균값: \", np.mean(arr1))"
   ]
  },
  {
   "attachments": {},
   "cell_type": "markdown",
   "metadata": {},
   "source": [
    "### Numpy  배열 변형, 결합, 분할"
   ]
  },
  {
   "cell_type": "code",
   "execution_count": 7,
   "metadata": {},
   "outputs": [
    {
     "name": "stdout",
     "output_type": "stream",
     "text": [
      "원본 배열:\n",
      " [[1 2 3]\n",
      " [4 5 6]]\n",
      "\n",
      "reshape를 이용한 배열 변형:\n",
      " [[1 2]\n",
      " [3 4]\n",
      " [5 6]]\n",
      "\n",
      "ravel을 이용한 1차원 배열 변환:\n",
      " [1 2 3 4 5 6]\n"
     ]
    }
   ],
   "source": [
    "import numpy as np\n",
    "\n",
    "arr = np.array([[1, 2, 3], [4, 5, 6]])\n",
    "print(\"원본 배열:\\n\", arr)\n",
    "\n",
    "# reshape 함수를 사용한 배열 변형\n",
    "reshaped_arr = arr.reshape(3, 2)\n",
    "print(\"\\nreshape를 이용한 배열 변형:\\n\", reshaped_arr)\n",
    "\n",
    "# ravel 함수를 사용한 1차원 배열 변환\n",
    "flattened_arr = arr.ravel()\n",
    "print(\"\\nravel을 이용한 1차원 배열 변환:\\n\", flattened_arr)"
   ]
  },
  {
   "cell_type": "code",
   "execution_count": 8,
   "metadata": {},
   "outputs": [
    {
     "name": "stdout",
     "output_type": "stream",
     "text": [
      "\n",
      "vstack을 이용한 배열 결합:\n",
      " [[1 2 3]\n",
      " [4 5 6]]\n",
      "\n",
      "hstack을 이용한 배열 결합:\n",
      " [1 2 3 4 5 6]\n"
     ]
    }
   ],
   "source": [
    "arr1 = np.array([1, 2, 3])\n",
    "arr2 = np.array([4, 5, 6])\n",
    "\n",
    "# vstack을 이용한 배열 결합\n",
    "vstacked_arr = np.vstack((arr1, arr2))\n",
    "print(\"\\nvstack을 이용한 배열 결합:\\n\", vstacked_arr)\n",
    "\n",
    "# hstack을 이용한 배열 결합\n",
    "hstacked_arr = np.hstack((arr1, arr2))\n",
    "print(\"\\nhstack을 이용한 배열 결합:\\n\", hstacked_arr)"
   ]
  },
  {
   "cell_type": "code",
   "execution_count": 9,
   "metadata": {},
   "outputs": [
    {
     "name": "stdout",
     "output_type": "stream",
     "text": [
      "\n",
      "원본 배열:\n",
      " [[0 1 2]\n",
      " [3 4 5]\n",
      " [6 7 8]]\n",
      "\n",
      "hsplit을 이용한 배열 분할:\n",
      "[[0]\n",
      " [3]\n",
      " [6]]\n",
      "[[1]\n",
      " [4]\n",
      " [7]]\n",
      "[[2]\n",
      " [5]\n",
      " [8]]\n"
     ]
    }
   ],
   "source": [
    "arr = np.arange(9).reshape(3, 3)\n",
    "print(\"\\n원본 배열:\\n\", arr)\n",
    "\n",
    "# hsplit을 이용한 배열 분할\n",
    "splitted_arr = np.hsplit(arr, 3)\n",
    "print(\"\\nhsplit을 이용한 배열 분할:\")\n",
    "for sub_arr in splitted_arr:\n",
    "    print(sub_arr)"
   ]
  },
  {
   "attachments": {},
   "cell_type": "markdown",
   "metadata": {},
   "source": [
    "### Numpy 브로드캐스팅, 정렬, 검색, 집계 함수"
   ]
  },
  {
   "cell_type": "code",
   "execution_count": 10,
   "metadata": {},
   "outputs": [
    {
     "name": "stdout",
     "output_type": "stream",
     "text": [
      "\n",
      "브로드캐스팅을 이용한 연산:\n",
      " [[1 2 3]\n",
      " [2 4 6]\n",
      " [3 6 9]]\n"
     ]
    }
   ],
   "source": [
    "arr1 = np.array([1, 2, 3])\n",
    "arr2 = np.array([1, 2, 3]).reshape(3, 1)\n",
    "\n",
    "# 브로드캐스팅을 이용한 연산\n",
    "print(\"\\n브로드캐스팅을 이용한 연산:\\n\", arr1 * arr2)"
   ]
  },
  {
   "cell_type": "code",
   "execution_count": 11,
   "metadata": {},
   "outputs": [
    {
     "name": "stdout",
     "output_type": "stream",
     "text": [
      "\n",
      "np.sort를 이용한 정렬:\n",
      " [1 2 3 4 5 6 7 8]\n",
      "\n",
      "np.argsort를 이용한 정렬:\n",
      " [1 0 3 5 2 6 4 7]\n"
     ]
    }
   ],
   "source": [
    "arr = np.array([2, 1, 5, 3, 7, 4, 6, 8])\n",
    "\n",
    "# np.sort를 이용한 정렬\n",
    "sorted_arr = np.sort(arr)\n",
    "print(\"\\nnp.sort를 이용한 정렬:\\n\", sorted_arr)\n",
    "\n",
    "# np.argsort를 이용한 정렬\n",
    "sorted_index = np.argsort(arr)\n",
    "print(\"\\nnp.argsort를 이용한 정렬:\\n\", sorted_index)"
   ]
  },
  {
   "cell_type": "code",
   "execution_count": 12,
   "metadata": {},
   "outputs": [
    {
     "name": "stdout",
     "output_type": "stream",
     "text": [
      "\n",
      "np.where를 이용한 검색:\n",
      " (array([2, 4, 6, 7]),)\n"
     ]
    }
   ],
   "source": [
    "# np.where를 이용\n",
    "result = np.where(arr > 4)\n",
    "print(\"\\nnp.where를 이용한 검색:\\n\", result)"
   ]
  },
  {
   "cell_type": "code",
   "execution_count": 13,
   "metadata": {},
   "outputs": [
    {
     "name": "stdout",
     "output_type": "stream",
     "text": [
      "\n",
      "합계:  36\n",
      "최소값:  1\n",
      "최대값:  8\n",
      "평균값:  4.5\n"
     ]
    }
   ],
   "source": [
    "print(\"\\n합계: \", np.sum(arr))\n",
    "print(\"최소값: \", np.min(arr))\n",
    "print(\"최대값: \", np.max(arr))\n",
    "print(\"평균값: \", np.mean(arr))"
   ]
  },
  {
   "cell_type": "code",
   "execution_count": null,
   "metadata": {},
   "outputs": [],
   "source": []
  }
 ],
 "metadata": {
  "kernelspec": {
   "display_name": "Python 3",
   "language": "python",
   "name": "python3"
  },
  "language_info": {
   "codemirror_mode": {
    "name": "ipython",
    "version": 3
   },
   "file_extension": ".py",
   "mimetype": "text/x-python",
   "name": "python",
   "nbconvert_exporter": "python",
   "pygments_lexer": "ipython3",
   "version": "3.6.9"
  },
  "orig_nbformat": 4
 },
 "nbformat": 4,
 "nbformat_minor": 2
}
