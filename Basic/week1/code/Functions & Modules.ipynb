{
 "cells": [
  {
   "cell_type": "markdown",
   "id": "1ee0bbd8",
   "metadata": {},
   "source": [
    "## Functions and Modules\n",
    "- Functions\n",
    "    - Useful tool for reusing and modularizing code\n",
    "    - Defining a function, use the 'def' keyword, and when calling a function, use the function name followed by parentheses"
   ]
  },
  {
   "cell_type": "code",
   "execution_count": 2,
   "id": "75df7b29",
   "metadata": {},
   "outputs": [
    {
     "name": "stdout",
     "output_type": "stream",
     "text": [
      "Hello, Python!\n"
     ]
    }
   ],
   "source": [
    "# Defining and calling functions\n",
    "\n",
    "def greeting():\n",
    "    print(\"Hello, Python!\")\n",
    "\n",
    "greeting()"
   ]
  },
  {
   "cell_type": "code",
   "execution_count": 4,
   "id": "a58f7788",
   "metadata": {},
   "outputs": [
    {
     "name": "stdout",
     "output_type": "stream",
     "text": [
      "Hello TaeHoon\n"
     ]
    }
   ],
   "source": [
    "# parameter & argument\n",
    "def greeting(name):\n",
    "    print(\"Hello\" + \" \" + name)\n",
    "\n",
    "greeting(\"TaeHoon\")"
   ]
  },
  {
   "cell_type": "code",
   "execution_count": 5,
   "id": "3d939517",
   "metadata": {},
   "outputs": [
    {
     "name": "stdout",
     "output_type": "stream",
     "text": [
      "7\n"
     ]
    }
   ],
   "source": [
    "# return\n",
    "def add(a, b):\n",
    "    return a + b\n",
    "\n",
    "result = add(3, 4)\n",
    "print(result)"
   ]
  },
  {
   "cell_type": "code",
   "execution_count": 7,
   "id": "cf3a05cf",
   "metadata": {},
   "outputs": [
    {
     "name": "stdout",
     "output_type": "stream",
     "text": [
      "Hello! Python\n",
      "Hello! TaeHoon\n"
     ]
    }
   ],
   "source": [
    "# default\n",
    "def greet(name=\"Python\"):\n",
    "    print(\"Hello!\" + \" \" + name)\n",
    "\n",
    "greet()\n",
    "greet(\"TaeHoon\")"
   ]
  },
  {
   "cell_type": "code",
   "execution_count": 8,
   "id": "ed5feaf7",
   "metadata": {},
   "outputs": [
    {
     "name": "stdout",
     "output_type": "stream",
     "text": [
      "15\n"
     ]
    }
   ],
   "source": [
    "# Variable arguments\n",
    "def sum_all(*args):\n",
    "    total = 0\n",
    "    for num in args:\n",
    "        total += num\n",
    "    return total\n",
    "\n",
    "print(sum_all(1, 2, 3, 4, 5))"
   ]
  },
  {
   "cell_type": "code",
   "execution_count": 13,
   "id": "e55570f9",
   "metadata": {},
   "outputs": [
    {
     "name": "stdout",
     "output_type": "stream",
     "text": [
      "Alice is 30 years old and lives in New York\n"
     ]
    }
   ],
   "source": [
    "# Keyword arguments\n",
    "def person_info(name, age, city):\n",
    "    print(name + \" is \" + str(age) + \" years old and lives in \" + city)\n",
    "\n",
    "person_info(name=\"Alice\", age=30, city=\"New York\")"
   ]
  },
  {
   "cell_type": "markdown",
   "id": "5a7ee387",
   "metadata": {},
   "source": [
    "## Module"
   ]
  },
  {
   "cell_type": "code",
   "execution_count": 14,
   "id": "bc03219c",
   "metadata": {},
   "outputs": [
    {
     "name": "stdout",
     "output_type": "stream",
     "text": [
      "4.0\n"
     ]
    }
   ],
   "source": [
    "# import\n",
    "import math\n",
    "\n",
    "result = math.sqrt(16)\n",
    "print(result)"
   ]
  },
  {
   "cell_type": "code",
   "execution_count": 15,
   "id": "7dc9f40b",
   "metadata": {},
   "outputs": [
    {
     "name": "stdout",
     "output_type": "stream",
     "text": [
      "4.0\n"
     ]
    }
   ],
   "source": [
    "#only function\n",
    "from math import sqrt\n",
    "\n",
    "result = sqrt(16)\n",
    "print(result)"
   ]
  },
  {
   "cell_type": "code",
   "execution_count": 16,
   "id": "79a76d17",
   "metadata": {},
   "outputs": [
    {
     "name": "stdout",
     "output_type": "stream",
     "text": [
      "4.0\n"
     ]
    }
   ],
   "source": [
    "# use nickname\n",
    "import math as m\n",
    "\n",
    "result = m.sqrt(16)\n",
    "print(result)"
   ]
  }
 ],
 "metadata": {
  "kernelspec": {
   "display_name": "Python 3 (ipykernel)",
   "language": "python",
   "name": "python3"
  },
  "language_info": {
   "codemirror_mode": {
    "name": "ipython",
    "version": 3
   },
   "file_extension": ".py",
   "mimetype": "text/x-python",
   "name": "python",
   "nbconvert_exporter": "python",
   "pygments_lexer": "ipython3",
   "version": "3.10.2"
  }
 },
 "nbformat": 4,
 "nbformat_minor": 5
}
