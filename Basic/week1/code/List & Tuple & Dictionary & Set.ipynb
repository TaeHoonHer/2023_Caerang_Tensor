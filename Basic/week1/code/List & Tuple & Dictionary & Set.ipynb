{
 "cells": [
  {
   "cell_type": "markdown",
   "id": "a1094fb4",
   "metadata": {},
   "source": [
    "### List\n",
    "Lists are mutable data structures that store multiple pieces of data in an ordered sequence. They are represented using square brackets ([]), and each element is separated by a comma (,)"
   ]
  },
  {
   "cell_type": "code",
   "execution_count": 1,
   "id": "b8086da8",
   "metadata": {},
   "outputs": [
    {
     "name": "stdout",
     "output_type": "stream",
     "text": [
      "apple\n",
      "cherry\n"
     ]
    }
   ],
   "source": [
    "# Creating a List, Indexing a List\n",
    "fruits = [\"apple\", \"banana\", \"cherry\"]\n",
    "print(fruits[0])\n",
    "print(fruits[-1])"
   ]
  },
  {
   "cell_type": "code",
   "execution_count": 2,
   "id": "1edb1ee7",
   "metadata": {},
   "outputs": [
    {
     "name": "stdout",
     "output_type": "stream",
     "text": [
      "[1, 2, 3]\n",
      "[0, 1, 2]\n",
      "[3, 4, 5]\n"
     ]
    }
   ],
   "source": [
    "# Slice\n",
    "numbers = [0, 1, 2, 3, 4, 5]\n",
    "print(numbers[1:4])\n",
    "print(numbers[:3])\n",
    "print(numbers[3:])"
   ]
  },
  {
   "cell_type": "code",
   "execution_count": 4,
   "id": "127b788a",
   "metadata": {},
   "outputs": [
    {
     "name": "stdout",
     "output_type": "stream",
     "text": [
      "['apple', 'banana', 'cherry', 'orange']\n"
     ]
    }
   ],
   "source": [
    "fruits = [\"apple\", \"banana\", \"cherry\"]\n",
    "fruits.append(\"orange\")\n",
    "print(fruits)"
   ]
  },
  {
   "cell_type": "code",
   "execution_count": 5,
   "id": "191d07b6",
   "metadata": {},
   "outputs": [
    {
     "name": "stdout",
     "output_type": "stream",
     "text": [
      "['apple', 'grape', 'banana', 'cherry', 'orange']\n"
     ]
    }
   ],
   "source": [
    "# add\n",
    "\n",
    "fruits.insert(1, \"grape\")\n",
    "print(fruits)"
   ]
  },
  {
   "cell_type": "code",
   "execution_count": 6,
   "id": "b0a5e0d7",
   "metadata": {},
   "outputs": [
    {
     "name": "stdout",
     "output_type": "stream",
     "text": [
      "['apple', 'cherry', 'orange', 'grape']\n",
      "['apple', 'orange', 'grape']\n"
     ]
    }
   ],
   "source": [
    "# delete\n",
    "fruits = [\"apple\", \"banana\", \"cherry\", \"orange\", \"grape\"]\n",
    "fruits.remove(\"banana\")\n",
    "print(fruits)\n",
    "\n",
    "del fruits[1]\n",
    "print(fruits)"
   ]
  },
  {
   "cell_type": "code",
   "execution_count": 7,
   "id": "0be91ebe",
   "metadata": {},
   "outputs": [
    {
     "name": "stdout",
     "output_type": "stream",
     "text": [
      "[1, 2, 3, 4, 5]\n",
      "[5, 4, 3, 2, 1]\n"
     ]
    }
   ],
   "source": [
    "# reverse\n",
    "numbers = [5, 3, 1, 4, 2]\n",
    "numbers.sort()\n",
    "print(numbers)\n",
    "\n",
    "numbers.reverse()\n",
    "print(numbers)"
   ]
  },
  {
   "cell_type": "markdown",
   "id": "46c4a081",
   "metadata": {},
   "source": [
    "### Tuple\n",
    "A tuple is a data structure for storing multiple values in an immutable (unchangeable) sequence. Tuples are represented using parentheses () and individual elements are separated by commas (,)"
   ]
  },
  {
   "cell_type": "code",
   "execution_count": 8,
   "id": "0f8a43d1",
   "metadata": {},
   "outputs": [
    {
     "name": "stdout",
     "output_type": "stream",
     "text": [
      "red\n",
      "green\n"
     ]
    }
   ],
   "source": [
    "# Creating a Tuple, Indexing\n",
    "colors = (\"red\", \"blue\", \"green\")\n",
    "print(colors[0])\n",
    "print(colors[-1])"
   ]
  },
  {
   "cell_type": "code",
   "execution_count": 9,
   "id": "38ecf212",
   "metadata": {},
   "outputs": [
    {
     "name": "stdout",
     "output_type": "stream",
     "text": [
      "(1, 2, 3)\n",
      "(0, 1, 2)\n",
      "(3, 4, 5)\n"
     ]
    }
   ],
   "source": [
    "# Slice\n",
    "numbers = (0, 1, 2, 3, 4, 5)\n",
    "print(numbers[1:4])\n",
    "print(numbers[:3])\n",
    "print(numbers[3:])"
   ]
  },
  {
   "cell_type": "code",
   "execution_count": 12,
   "id": "d8339786",
   "metadata": {},
   "outputs": [
    {
     "name": "stdout",
     "output_type": "stream",
     "text": [
      "Taehoon 30 Korea\n"
     ]
    }
   ],
   "source": [
    "# Packing, Unpacking\n",
    "packed_tuple = \"Taehoon\", 30, \"Seoul\"  # Packing\n",
    "name, age, city = packed_tuple  # Unpacking\n",
    "print(name, age, city)"
   ]
  },
  {
   "cell_type": "markdown",
   "id": "70e2f20f",
   "metadata": {},
   "source": [
    "### Dictionary\n",
    "A dictionary is a data structure that stores data in key-value pairs. Dictionaries are represented using curly braces ({}) and each element is separated by a comma (,)"
   ]
  },
  {
   "cell_type": "code",
   "execution_count": 13,
   "id": "d8f737d6",
   "metadata": {},
   "outputs": [
    {
     "name": "stdout",
     "output_type": "stream",
     "text": [
      "Taehoon\n"
     ]
    }
   ],
   "source": [
    "# Creating a Dictionary, Indexing\n",
    "person = {\n",
    "    \"name\": \"Taehoon\",\n",
    "    \"age\": 23,\n",
    "    \"city\": \"Seoul\"\n",
    "}\n",
    "print(person[\"name\"])"
   ]
  },
  {
   "cell_type": "code",
   "execution_count": 16,
   "id": "826a2bac",
   "metadata": {},
   "outputs": [
    {
     "name": "stdout",
     "output_type": "stream",
     "text": [
      "{'name': 'Taehoon', 'age': 24, 'city': 'Seoul', 'country': 'South Korea'}\n"
     ]
    }
   ],
   "source": [
    "# Add, Modifying\n",
    "person = {\n",
    "    \"name\": \"Taehoon\",\n",
    "    \"age\": 23,\n",
    "    \"city\": \"Seoul\"\n",
    "}\n",
    "person[\"country\"] = \"South Korea\"\n",
    "person[\"age\"] = 24\n",
    "print(person)"
   ]
  },
  {
   "cell_type": "code",
   "execution_count": 17,
   "id": "b00a5a44",
   "metadata": {},
   "outputs": [
    {
     "name": "stdout",
     "output_type": "stream",
     "text": [
      "{'name': 'Taehoon', 'city': 'Seoul', 'country': 'South Korea'}\n"
     ]
    }
   ],
   "source": [
    "# Delete\n",
    "person = {\n",
    "    \"name\": \"Taehoon\",\n",
    "    \"age\": 23,\n",
    "    \"city\": \"Seoul\",\n",
    "    \"country\": \"South Korea\"\n",
    "}\n",
    "del person[\"age\"]\n",
    "print(person)"
   ]
  },
  {
   "cell_type": "code",
   "execution_count": 19,
   "id": "f9cb7f40",
   "metadata": {},
   "outputs": [
    {
     "name": "stdout",
     "output_type": "stream",
     "text": [
      "dict_keys(['name', 'age', 'city'])\n",
      "dict_values(['Taehoon', 23, 'Seoul'])\n",
      "dict_items([('name', 'Taehoon'), ('age', 23), ('city', 'Seoul')])\n"
     ]
    }
   ],
   "source": [
    "#Methods\n",
    "person = {\n",
    "    \"name\": \"Taehoon\",\n",
    "    \"age\": 23,\n",
    "    \"city\": \"Seoul\"\n",
    "}\n",
    "print(person.keys())\n",
    "print(person.values())\n",
    "print(person.items())"
   ]
  },
  {
   "cell_type": "markdown",
   "id": "4b31abf4",
   "metadata": {},
   "source": [
    "### Set\n",
    "\n",
    "A set is a data structure that has no order and does not allow duplicated elements. A set is represented by curly braces ({}) and each element is separated by a comma (,)"
   ]
  },
  {
   "cell_type": "code",
   "execution_count": 20,
   "id": "eb741998",
   "metadata": {},
   "outputs": [
    {
     "name": "stdout",
     "output_type": "stream",
     "text": [
      "{'cherry', 'banana', 'apple'}\n"
     ]
    }
   ],
   "source": [
    "# Create\n",
    "fruits = {\"apple\", \"banana\", \"cherry\"}\n",
    "print(fruits)"
   ]
  },
  {
   "cell_type": "code",
   "execution_count": 21,
   "id": "19f56495",
   "metadata": {},
   "outputs": [
    {
     "name": "stdout",
     "output_type": "stream",
     "text": [
      "{'orange', 'cherry', 'banana', 'apple'}\n"
     ]
    }
   ],
   "source": [
    "# Add\n",
    "fruits = {\"apple\", \"banana\", \"cherry\"}\n",
    "fruits.add(\"orange\")\n",
    "print(fruits)"
   ]
  },
  {
   "cell_type": "code",
   "execution_count": 22,
   "id": "f31e0c18",
   "metadata": {},
   "outputs": [
    {
     "name": "stdout",
     "output_type": "stream",
     "text": [
      "{'cherry', 'orange', 'apple'}\n"
     ]
    }
   ],
   "source": [
    "# Del\n",
    "fruits = {\"apple\", \"banana\", \"cherry\", \"orange\"}\n",
    "fruits.remove(\"banana\")\n",
    "print(fruits)"
   ]
  },
  {
   "cell_type": "code",
   "execution_count": 23,
   "id": "73bf78ec",
   "metadata": {},
   "outputs": [
    {
     "name": "stdout",
     "output_type": "stream",
     "text": [
      "{1, 2, 3, 4, 5, 6}\n",
      "{3, 4}\n",
      "{1, 2}\n"
     ]
    }
   ],
   "source": [
    "# Set operations\n",
    "A = {1, 2, 3, 4}\n",
    "B = {3, 4, 5, 6}\n",
    "\n",
    "union = A | B\n",
    "intersection = A & B\n",
    "difference = A - B\n",
    "\n",
    "print(union)\n",
    "print(intersection)\n",
    "print(difference)"
   ]
  },
  {
   "cell_type": "code",
   "execution_count": null,
   "id": "980bff69",
   "metadata": {},
   "outputs": [],
   "source": []
  }
 ],
 "metadata": {
  "kernelspec": {
   "display_name": "Python 3 (ipykernel)",
   "language": "python",
   "name": "python3"
  },
  "language_info": {
   "codemirror_mode": {
    "name": "ipython",
    "version": 3
   },
   "file_extension": ".py",
   "mimetype": "text/x-python",
   "name": "python",
   "nbconvert_exporter": "python",
   "pygments_lexer": "ipython3",
   "version": "3.10.2"
  }
 },
 "nbformat": 4,
 "nbformat_minor": 5
}
