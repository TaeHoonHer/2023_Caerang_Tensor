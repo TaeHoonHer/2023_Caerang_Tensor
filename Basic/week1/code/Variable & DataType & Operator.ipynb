{
 "cells": [
  {
   "cell_type": "markdown",
   "id": "e72c42b4",
   "metadata": {},
   "source": [
    "## Week1"
   ]
  },
  {
   "cell_type": "markdown",
   "id": "7ca79836",
   "metadata": {},
   "source": [
    "Introduction to Python\n",
    "- Course overview and objectives\n",
    "- Setting up and configuring Python\n",
    "- Variables, data types, and operators\n",
    "- Conditional statements and loops\n",
    "- Functions and modules\n",
    "- Lists, tuples, dictionaries, and sets\n",
    "- Practice exercises and Q&A"
   ]
  },
  {
   "cell_type": "markdown",
   "id": "e7e8f990",
   "metadata": {},
   "source": [
    "### Data Type\n",
    "- Number\n",
    "- String\n",
    "- Boolean\n",
    "- List\n",
    "- Tuple\n",
    "- Dictionary\n",
    "- Set"
   ]
  },
  {
   "cell_type": "markdown",
   "id": "3aed83e6",
   "metadata": {},
   "source": [
    "### Number\n",
    "- Integer (Int)\n",
    "- Real Number (Float)"
   ]
  },
  {
   "cell_type": "code",
   "execution_count": 1,
   "id": "2a1ef0d4",
   "metadata": {},
   "outputs": [
    {
     "name": "stdout",
     "output_type": "stream",
     "text": [
      "<class 'int'>\n",
      "<class 'float'>\n"
     ]
    }
   ],
   "source": [
    "a = 5\n",
    "b = 3.14\n",
    "print(type(a))\n",
    "print(type(b))"
   ]
  },
  {
   "cell_type": "markdown",
   "id": "83efd106",
   "metadata": {},
   "source": [
    "### String\n",
    "- It is represented as a sequence of characters, enclosed in either single quotes (' ') or double quotes (\" \")."
   ]
  },
  {
   "cell_type": "code",
   "execution_count": 3,
   "id": "9582a051",
   "metadata": {},
   "outputs": [
    {
     "name": "stdout",
     "output_type": "stream",
     "text": [
      "<class 'str'>\n",
      "<class 'str'>\n"
     ]
    }
   ],
   "source": [
    "s1 = 'Hello, Python'\n",
    "s2 = \"파이썬\"\n",
    "print(type(s1))\n",
    "print(type(s2))"
   ]
  },
  {
   "cell_type": "markdown",
   "id": "c79956cb",
   "metadata": {},
   "source": [
    "### Boolean\n",
    "- True & False"
   ]
  },
  {
   "cell_type": "code",
   "execution_count": 4,
   "id": "65be054c",
   "metadata": {},
   "outputs": [
    {
     "name": "stdout",
     "output_type": "stream",
     "text": [
      "<class 'bool'>\n",
      "<class 'bool'>\n"
     ]
    }
   ],
   "source": [
    "t = True\n",
    "f = False\n",
    "print(type(t))\n",
    "print(type(f))"
   ]
  },
  {
   "cell_type": "markdown",
   "id": "dab85962",
   "metadata": {},
   "source": [
    "### Operator\n",
    "- arithmetic\n",
    "- comparison\n",
    "- assignment\n",
    "- logical\n",
    "- bitwise\n",
    "- membership\n",
    "- identity"
   ]
  },
  {
   "cell_type": "code",
   "execution_count": 7,
   "id": "333a9e3f",
   "metadata": {},
   "outputs": [
    {
     "name": "stdout",
     "output_type": "stream",
     "text": [
      "16\n",
      "4\n",
      "60\n",
      "1.6666666666666667\n",
      "1\n",
      "4\n",
      "1000000\n"
     ]
    }
   ],
   "source": [
    "# arithmetic\n",
    "a = 10\n",
    "b = 6\n",
    "\n",
    "print(a + b)\n",
    "print(a - b)\n",
    "print(a * b)\n",
    "print(a / b)\n",
    "print(a // b)\n",
    "print(a % b)\n",
    "print(a ** b)"
   ]
  },
  {
   "cell_type": "code",
   "execution_count": 8,
   "id": "bd2331e1",
   "metadata": {},
   "outputs": [
    {
     "name": "stdout",
     "output_type": "stream",
     "text": [
      "False\n",
      "True\n",
      "False\n",
      "True\n",
      "False\n",
      "True\n"
     ]
    }
   ],
   "source": [
    "# comparison\n",
    "x = 10\n",
    "y = 20\n",
    "\n",
    "print(x == y)\n",
    "print(x != y)\n",
    "print(x > y)\n",
    "print(x < y)\n",
    "print(x >= y)\n",
    "print(x <= y)"
   ]
  },
  {
   "cell_type": "code",
   "execution_count": 9,
   "id": "f1e41b5e",
   "metadata": {},
   "outputs": [
    {
     "name": "stdout",
     "output_type": "stream",
     "text": [
      "8\n",
      "6\n",
      "24\n",
      "12.0\n",
      "0.0\n",
      "0.0\n",
      "0.0\n"
     ]
    }
   ],
   "source": [
    "# assignment\n",
    "a = 5\n",
    "a += 3\n",
    "print(a)\n",
    "a -= 2\n",
    "print(a)\n",
    "a *= 4\n",
    "print(a)\n",
    "a /= 2\n",
    "print(a)\n",
    "a %= 3\n",
    "print(a)\n",
    "a **= 2\n",
    "print(a)\n",
    "a //= 2\n",
    "print(a)"
   ]
  },
  {
   "cell_type": "code",
   "execution_count": 10,
   "id": "d2aef6d0",
   "metadata": {},
   "outputs": [
    {
     "name": "stdout",
     "output_type": "stream",
     "text": [
      "False\n",
      "True\n",
      "False\n",
      "True\n"
     ]
    }
   ],
   "source": [
    "# logical\n",
    "t = True\n",
    "f = False\n",
    "\n",
    "print(t and f)\n",
    "print(t or f)\n",
    "print(not t)\n",
    "print(not f)"
   ]
  },
  {
   "cell_type": "code",
   "execution_count": 11,
   "id": "2b42343b",
   "metadata": {},
   "outputs": [
    {
     "name": "stdout",
     "output_type": "stream",
     "text": [
      "3\n",
      "7\n",
      "4\n",
      "-8\n",
      "14\n",
      "3\n"
     ]
    }
   ],
   "source": [
    "# bitwise\n",
    "a = 7  # 0111 (binary)\n",
    "b = 3  # 0011 (binary)\n",
    "\n",
    "print(a & b)\n",
    "print(a | b)\n",
    "print(a ^ b)\n",
    "\n",
    "print(~a) \n",
    "# NOT\n",
    "# a = 0111 = 7\n",
    "# not a = 1000 = -8\n",
    "\n",
    "print(a << 1)\n",
    "print(a >> 1)"
   ]
  },
  {
   "cell_type": "code",
   "execution_count": 12,
   "id": "5d775bdf",
   "metadata": {},
   "outputs": [
    {
     "name": "stdout",
     "output_type": "stream",
     "text": [
      "True\n",
      "True\n"
     ]
    }
   ],
   "source": [
    "# membership\n",
    "nums = [1, 3, 5, 7, 9]\n",
    "\n",
    "print(3 in nums)\n",
    "print(4 not in nums)"
   ]
  },
  {
   "cell_type": "code",
   "execution_count": 13,
   "id": "1a058497",
   "metadata": {},
   "outputs": [
    {
     "name": "stdout",
     "output_type": "stream",
     "text": [
      "False\n",
      "True\n",
      "True\n"
     ]
    }
   ],
   "source": [
    "# identity\n",
    "a = [1, 2, 3]\n",
    "b = [1, 2, 3]\n",
    "c = a\n",
    "\n",
    "print(a is b)\n",
    "# Have the same values but are separate list objects\n",
    "\n",
    "print(a is c)\n",
    "print(a is not b)"
   ]
  },
  {
   "cell_type": "code",
   "execution_count": null,
   "id": "743df275",
   "metadata": {},
   "outputs": [],
   "source": []
  }
 ],
 "metadata": {
  "kernelspec": {
   "display_name": "Python 3 (ipykernel)",
   "language": "python",
   "name": "python3"
  },
  "language_info": {
   "codemirror_mode": {
    "name": "ipython",
    "version": 3
   },
   "file_extension": ".py",
   "mimetype": "text/x-python",
   "name": "python",
   "nbconvert_exporter": "python",
   "pygments_lexer": "ipython3",
   "version": "3.10.2"
  }
 },
 "nbformat": 4,
 "nbformat_minor": 5
}
